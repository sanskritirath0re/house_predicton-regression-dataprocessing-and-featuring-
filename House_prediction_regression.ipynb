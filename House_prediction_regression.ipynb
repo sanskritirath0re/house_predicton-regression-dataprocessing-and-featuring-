{
  "nbformat": 4,
  "nbformat_minor": 0,
  "metadata": {
    "colab": {
      "provenance": []
    },
    "kernelspec": {
      "name": "python3",
      "display_name": "Python 3"
    },
    "language_info": {
      "name": "python"
    }
  },
  "cells": [
    {
      "cell_type": "code",
      "source": [
        "import pandas as pd\n",
        "import zipfile\n",
        "import os\n",
        "from sklearn.model_selection import train_test_split\n",
        "from sklearn.preprocessing import OneHotEncoder\n",
        "from sklearn.compose import ColumnTransformer\n",
        "from sklearn.pipeline import Pipeline\n",
        "from sklearn.impute import SimpleImputer\n",
        "from sklearn.ensemble import GradientBoostingRegressor\n",
        "from sklearn.metrics import mean_squared_error\n",
        "\n",
        "# Define the path to the ZIP file and extraction directory\n",
        "zip_file_path = '/content/house-prices-advanced-regression-techniques.zip'\n",
        "extraction_path = '/content/house-prices-advanced-regression-techniques/'\n",
        "\n",
        "# Create the extraction directory if it doesn't exist\n",
        "os.makedirs(extraction_path, exist_ok=True)\n",
        "\n",
        "# Extract the contents of the zip file\n",
        "with zipfile.ZipFile(zip_file_path, 'r') as zip_ref:\n",
        "    zip_ref.extractall(extraction_path)\n",
        "\n",
        "# Load the training data\n",
        "train_data_path = os.path.join(extraction_path, 'train.csv')\n",
        "train_data = pd.read_csv(train_data_path)\n",
        "\n",
        "# Select features\n",
        "numeric_features = ['LotArea', 'OverallQual', 'OverallCond', 'YearBuilt', 'GrLivArea', 'GarageCars', 'GarageArea']\n",
        "categorical_features = ['MSZoning', 'Street', 'LotShape', 'LandContour', 'Utilities', 'Neighborhood', 'BldgType', 'HouseStyle']\n",
        "\n",
        "# Target variable\n",
        "target = 'SalePrice'\n",
        "\n",
        "# Preprocessing for numeric features: impute missing values\n",
        "numeric_transformer = Pipeline(steps=[\n",
        "    ('imputer', SimpleImputer(strategy='median'))\n",
        "])\n",
        "\n",
        "# Preprocessing for categorical features: impute missing values, then apply one-hot encoding\n",
        "categorical_transformer = Pipeline(steps=[\n",
        "    ('imputer', SimpleImputer(strategy='most_frequent')),\n",
        "    ('onehot', OneHotEncoder(handle_unknown='ignore'))\n",
        "])\n",
        "\n",
        "# Combine preprocessing steps\n",
        "preprocessor = ColumnTransformer(\n",
        "    transformers=[\n",
        "        ('num', numeric_transformer, numeric_features),\n",
        "        ('cat', categorical_transformer, categorical_features)\n",
        "    ])\n",
        "\n",
        "# Define the model pipeline\n",
        "model = Pipeline(steps=[\n",
        "    ('preprocessor', preprocessor),\n",
        "    ('regressor', GradientBoostingRegressor(n_estimators=100, learning_rate=0.1, max_depth=3, random_state=42))\n",
        "])\n",
        "\n",
        "# Drop rows with missing target values\n",
        "data = train_data[numeric_features + categorical_features + [target]].dropna(subset=[target])\n",
        "\n",
        "# Split the data into training and validation sets\n",
        "X = data[numeric_features + categorical_features]\n",
        "y = data[target]\n",
        "X_train, X_val, y_train, y_val = train_test_split(X, y, test_size=0.2, random_state=42)\n",
        "\n",
        "# Train the model\n",
        "model.fit(X_train, y_train)\n",
        "\n",
        "# Predict on the validation set\n",
        "y_pred = model.predict(X_val)\n",
        "\n",
        "# Evaluate the model\n",
        "mse = mean_squared_error(y_val, y_pred)\n",
        "rmse = mse ** 0.5\n",
        "\n",
        "# Print the RMSE\n",
        "print(f'Root Mean Squared Error (RMSE): {rmse}')"
      ],
      "metadata": {
        "colab": {
          "base_uri": "https://localhost:8080/"
        },
        "id": "EnSYcd9uunq3",
        "outputId": "065af5be-85e0-433f-f669-a754d1400083"
      },
      "execution_count": 5,
      "outputs": [
        {
          "output_type": "stream",
          "name": "stdout",
          "text": [
            "Root Mean Squared Error (RMSE): 28520.79971148161\n"
          ]
        }
      ]
    },
    {
      "cell_type": "code",
      "source": [
        "import pandas as pd\n",
        "import zipfile\n",
        "import os\n",
        "from sklearn.model_selection import train_test_split\n",
        "from sklearn.preprocessing import OneHotEncoder, StandardScaler\n",
        "from sklearn.compose import ColumnTransformer\n",
        "from sklearn.pipeline import Pipeline\n",
        "from sklearn.impute import SimpleImputer\n",
        "from sklearn.ensemble import GradientBoostingRegressor\n",
        "from sklearn.metrics import mean_squared_error\n",
        "\n",
        "# Define the path to the ZIP file and extraction directory\n",
        "zip_file_path = '/content/house-prices-advanced-regression-techniques.zip'\n",
        "extraction_path = '/content/house-prices-advanced-regression-techniques/'\n",
        "\n",
        "# Create the extraction directory if it doesn't exist\n",
        "os.makedirs(extraction_path, exist_ok=True)\n",
        "\n",
        "# Extract the contents of the zip file\n",
        "with zipfile.ZipFile(zip_file_path, 'r') as zip_ref:\n",
        "    zip_ref.extractall(extraction_path)\n",
        "\n",
        "# Load the training data\n",
        "train_data_path = os.path.join(extraction_path, 'train.csv')\n",
        "train_data = pd.read_csv(train_data_path)\n",
        "\n",
        "# Select features\n",
        "numeric_features = ['LotArea', 'OverallQual', 'OverallCond', 'YearBuilt', 'GrLivArea', 'GarageCars', 'GarageArea']\n",
        "categorical_features = ['MSZoning', 'Street', 'LotShape', 'LandContour', 'Utilities', 'Neighborhood', 'BldgType', 'HouseStyle']\n",
        "\n",
        "# Target variable\n",
        "target = 'SalePrice'\n",
        "\n",
        "# Preprocessing for numeric features: impute missing values and scale\n",
        "numeric_transformer = Pipeline(steps=[\n",
        "    ('imputer', SimpleImputer(strategy='median')),\n",
        "    ('scaler', StandardScaler())\n",
        "])\n",
        "\n",
        "# Preprocessing for categorical features: impute missing values, then apply one-hot encoding\n",
        "categorical_transformer = Pipeline(steps=[\n",
        "    ('imputer', SimpleImputer(strategy='most_frequent')),\n",
        "    ('onehot', OneHotEncoder(handle_unknown='ignore'))\n",
        "])\n",
        "\n",
        "# Combine preprocessing steps\n",
        "preprocessor = ColumnTransformer(\n",
        "    transformers=[\n",
        "        ('num', numeric_transformer, numeric_features),\n",
        "        ('cat', categorical_transformer, categorical_features)\n",
        "    ])\n",
        "\n",
        "# Define the model pipeline\n",
        "model = Pipeline(steps=[\n",
        "    ('preprocessor', preprocessor),\n",
        "    ('regressor', GradientBoostingRegressor(n_estimators=100, learning_rate=0.1, max_depth=3, random_state=42))\n",
        "])\n",
        "\n",
        "# Drop rows with missing target values\n",
        "data = train_data[numeric_features + categorical_features + [target]].dropna(subset=[target])\n",
        "\n",
        "# Split the data into training and validation sets\n",
        "X = data[numeric_features + categorical_features]\n",
        "y = data[target]\n",
        "X_train, X_val, y_train, y_val = train_test_split(X, y, test_size=0.2, random_state=42)\n",
        "\n",
        "# Train the model\n",
        "model.fit(X_train, y_train)\n",
        "\n",
        "# Predict on the validation set\n",
        "y_pred = model.predict(X_val)\n",
        "\n",
        "# Evaluate the model\n",
        "mse = mean_squared_error(y_val, y_pred)\n",
        "rmse = mse ** 0.5\n",
        "\n",
        "# Print the RMSE\n",
        "print(f'Root Mean Squared Error (RMSE): {rmse}')"
      ],
      "metadata": {
        "colab": {
          "base_uri": "https://localhost:8080/"
        },
        "id": "aJk8c0DIva29",
        "outputId": "6fbb0490-d03c-4617-9f22-5151f85f2fb1"
      },
      "execution_count": 6,
      "outputs": [
        {
          "output_type": "stream",
          "name": "stdout",
          "text": [
            "Root Mean Squared Error (RMSE): 28520.799711481606\n"
          ]
        }
      ]
    },
    {
      "cell_type": "code",
      "source": [],
      "metadata": {
        "id": "X0-SSlKQv6z0"
      },
      "execution_count": null,
      "outputs": []
    }
  ]
}